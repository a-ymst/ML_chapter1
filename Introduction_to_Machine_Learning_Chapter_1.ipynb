{
  "nbformat": 4,
  "nbformat_minor": 0,
  "metadata": {
    "colab": {
      "name": "Introduction to Machine Learning Chapter 1.ipynb",
      "provenance": [],
      "collapsed_sections": [],
      "toc_visible": true
    },
    "kernelspec": {
      "name": "python3",
      "display_name": "Python 3"
    }
  },
  "cells": [
    {
      "cell_type": "markdown",
      "metadata": {
        "id": "XL6jDiByiIz9"
      },
      "source": [
        "# Introduction to Machine Learning\n",
        "---"
      ]
    },
    {
      "cell_type": "markdown",
      "metadata": {
        "id": "nrpRDyr8lTOI"
      },
      "source": [
        "# Chapter 1 Perceptron"
      ]
    },
    {
      "cell_type": "markdown",
      "metadata": {
        "id": "o9H6BeH3kdwg"
      },
      "source": [
        "## Exercise 1.1\n",
        "\n",
        "| x1 | x2 | Sigma wx | y |\n",
        "|----|----|----|----|\n",
        "|0   |0   |    |    |\n",
        "|0   |1   |    |    |\n",
        "|1   |0   |    |    |\n",
        "|1   |1   |    |    |\n"
      ]
    },
    {
      "cell_type": "markdown",
      "metadata": {
        "id": "APyu4nQAk9bR"
      },
      "source": [
        "## Exercise 1.2\n",
        "\n",
        "| x1 | x2 | Sigma wx | y |\n",
        "|----|----|----|----|\n",
        "|0   |0   |    |    |\n",
        "|0   |1   |    |    |\n",
        "|1   |0   |    |    |\n",
        "|1   |1   |    |    |\n"
      ]
    },
    {
      "cell_type": "markdown",
      "metadata": {
        "id": "MVQ_DAy4lK9-"
      },
      "source": [
        "## Exercise 1.3\n",
        "\n",
        "| x1 | x2 | Sigma wx | y |\n",
        "|----|----|----|----|\n",
        "|0   |0   |    |0   |\n",
        "|0   |1   |    |1   |\n",
        "|1   |0   |    |0   |\n",
        "|1   |1   |    |1   |\n",
        "\n",
        "weight for x1 =　\n",
        "\n",
        "weight for x2 = \n",
        "\n",
        "threshold = \n"
      ]
    },
    {
      "cell_type": "markdown",
      "metadata": {
        "id": "rlFR-UgaiaMm"
      },
      "source": [
        "## Exercise 1.4\n",
        "\n",
        "\n",
        "| x1 | x2 | x3 | Sigma wx | y |\n",
        "|----|----|----|----|----|\n",
        "|0   |0   |0   |    |    |\n",
        "|0   |0   |1   |    |    |\n",
        "|0   |1   |0   |    |    |\n",
        "|0   |1   |1   |    |    |\n",
        "|1   |0   |0   |    |    |\n",
        "|1   |0   |1   |    |    |\n",
        "|1   |1   |0   |    |    |\n",
        "|1   |1   |1   |    |    |"
      ]
    },
    {
      "cell_type": "markdown",
      "metadata": {
        "id": "s63EXbymmKY_"
      },
      "source": [
        "## Exercise 1.5\n",
        "\n",
        "\n",
        "| x1 | x2 | x3 | Sigma wx | y |\n",
        "|----|----|----|----|----|\n",
        "|0   |0   |0   |    |    |\n",
        "|0   |0   |1   |    |    |\n",
        "|0   |1   |0   |    |    |\n",
        "|0   |1   |1   |    |    |\n",
        "|1   |0   |0   |    |    |\n",
        "|1   |0   |1   |    |    |\n",
        "|1   |1   |0   |    |    |\n",
        "|1   |1   |1   |    |    |"
      ]
    },
    {
      "cell_type": "markdown",
      "metadata": {
        "id": "3agGIMc1mNf-"
      },
      "source": [
        "## Exercise 1.6\n",
        "\n",
        "\n",
        "| x1 | x2 | x3 | Sigma wx | y |\n",
        "|----|----|----|----|----|\n",
        "|0   |0   |0   |    |0   |\n",
        "|0   |0   |1   |    |1   |\n",
        "|0   |1   |0   |    |0   |\n",
        "|0   |1   |1   |    |0   |\n",
        "|1   |0   |0   |    |1   |\n",
        "|1   |0   |1   |    |1   |\n",
        "|1   |1   |0   |    |1   |\n",
        "|1   |1   |1   |    |1   |\n",
        "\n",
        "weight for x1 = \n",
        "\n",
        "weight for x2 = \n",
        "\n",
        "weight for x3 =\n",
        "\n",
        "threshold = \n",
        "\n"
      ]
    },
    {
      "cell_type": "markdown",
      "metadata": {
        "id": "Cviahf5sinOi"
      },
      "source": [
        "## Example 1.2"
      ]
    },
    {
      "cell_type": "code",
      "metadata": {
        "id": "2RSiSz_Hh_0d",
        "colab": {
          "base_uri": "https://localhost:8080/",
          "height": 34
        },
        "outputId": "d6c36b55-1eb1-45a7-95a1-77761ffb0937"
      },
      "source": [
        "import numpy as np\n",
        "\n",
        "x = np.array([1, 0, 1])\n",
        "w = np.array([2, 3, -1])\n",
        "np.dot(x, w.T)"
      ],
      "execution_count": null,
      "outputs": [
        {
          "output_type": "execute_result",
          "data": {
            "text/plain": [
              "1"
            ]
          },
          "metadata": {
            "tags": []
          },
          "execution_count": 2
        }
      ]
    },
    {
      "cell_type": "code",
      "metadata": {
        "id": "iQO8JUYRnZ_J",
        "colab": {
          "base_uri": "https://localhost:8080/",
          "height": 34
        },
        "outputId": "d535092c-9ae0-4384-e7f1-69e4db07511f"
      },
      "source": [
        "import numpy as np\n",
        "\n",
        "x = np.array([1, 0, 1])\n",
        "w = np.array([[2], [3], [-1]])\n",
        "np.dot(x, w)"
      ],
      "execution_count": null,
      "outputs": [
        {
          "output_type": "execute_result",
          "data": {
            "text/plain": [
              "array([1])"
            ]
          },
          "metadata": {
            "tags": []
          },
          "execution_count": 18
        }
      ]
    },
    {
      "cell_type": "markdown",
      "metadata": {
        "id": "yVRCXq1mn-1d"
      },
      "source": [
        "## Example 1.3"
      ]
    },
    {
      "cell_type": "code",
      "metadata": {
        "id": "fUZ7kM5zoCYi",
        "colab": {
          "base_uri": "https://localhost:8080/",
          "height": 34
        },
        "outputId": "49e699cd-8bc9-48c8-f0f7-8323ccb78714"
      },
      "source": [
        "a = 3\n",
        "b = 2\n",
        "print(a > b)"
      ],
      "execution_count": null,
      "outputs": [
        {
          "output_type": "stream",
          "text": [
            "True\n"
          ],
          "name": "stdout"
        }
      ]
    },
    {
      "cell_type": "code",
      "metadata": {
        "id": "LqoGiAECoGT_",
        "colab": {
          "base_uri": "https://localhost:8080/",
          "height": 34
        },
        "outputId": "0d7270a3-8f51-46e7-aac7-0e502b2cbafa"
      },
      "source": [
        "a = 2\n",
        "b = 3\n",
        "print(a > b)"
      ],
      "execution_count": null,
      "outputs": [
        {
          "output_type": "stream",
          "text": [
            "False\n"
          ],
          "name": "stdout"
        }
      ]
    },
    {
      "cell_type": "markdown",
      "metadata": {
        "id": "o-f21jLwoPSk"
      },
      "source": [
        "## Exercise 1.7"
      ]
    },
    {
      "cell_type": "code",
      "metadata": {
        "id": "oPVL7tzJoS5m",
        "colab": {
          "base_uri": "https://localhost:8080/",
          "height": 134
        },
        "outputId": "6bedde25-019e-416e-8ba0-f0302f310f4a"
      },
      "source": [
        "import numpy as np\n",
        "\n",
        "x = \n",
        "w =\n"
      ],
      "execution_count": null,
      "outputs": [
        {
          "output_type": "error",
          "ename": "SyntaxError",
          "evalue": "ignored",
          "traceback": [
            "\u001b[0;36m  File \u001b[0;32m\"<ipython-input-1-c647e2ad0251>\"\u001b[0;36m, line \u001b[0;32m3\u001b[0m\n\u001b[0;31m    x =\u001b[0m\n\u001b[0m        ^\u001b[0m\n\u001b[0;31mSyntaxError\u001b[0m\u001b[0;31m:\u001b[0m invalid syntax\n"
          ]
        }
      ]
    },
    {
      "cell_type": "markdown",
      "metadata": {
        "id": "Ffhlcx-jiHiS"
      },
      "source": [
        "## Exercise 1.8"
      ]
    },
    {
      "cell_type": "code",
      "metadata": {
        "id": "U7wOrtSOopUj"
      },
      "source": [
        "import numpy as np\n",
        "\n",
        "a =\n",
        "b =\n",
        "x =\n",
        "w ="
      ],
      "execution_count": null,
      "outputs": []
    },
    {
      "cell_type": "markdown",
      "metadata": {
        "id": "Ve5oXsHTiFoP"
      },
      "source": [
        "## Example 1.4"
      ]
    },
    {
      "cell_type": "code",
      "metadata": {
        "id": "VXD4cw9Cny-Z",
        "colab": {
          "base_uri": "https://localhost:8080/",
          "height": 34
        },
        "outputId": "177c76b6-68cb-425e-efb7-74838aeecad3"
      },
      "source": [
        "import numpy as np\n",
        "\n",
        "x = np.array([1, 1, 0])\n",
        "w = np.array([0.5, 1.0, 0.5])\n",
        "h = 1\n",
        "\n",
        "def formal_neuron(x, w, h):\n",
        "\n",
        "    p = np.dot(x, w)\n",
        "    y = p > h\n",
        "    #cast from  boolean to integer\n",
        "    return y.astype(np.int)\n",
        "\n",
        "y = formal_neuron(x, w.T, h)\n",
        "print(y)\n"
      ],
      "execution_count": null,
      "outputs": [
        {
          "output_type": "stream",
          "text": [
            "1\n"
          ],
          "name": "stdout"
        }
      ]
    },
    {
      "cell_type": "markdown",
      "metadata": {
        "id": "kKA1DpSoyO1F"
      },
      "source": [
        "## Exercise 1.9"
      ]
    },
    {
      "cell_type": "code",
      "metadata": {
        "id": "vJzRAldYyVfR"
      },
      "source": [
        "import numpy as np\n",
        "\n",
        "x =\n",
        "w =\n",
        "h =\n",
        "\n"
      ],
      "execution_count": null,
      "outputs": []
    },
    {
      "cell_type": "markdown",
      "metadata": {
        "id": "dv5YiQ6zzvyx"
      },
      "source": [
        "## Example 1.5"
      ]
    },
    {
      "cell_type": "code",
      "metadata": {
        "id": "EIFSy2CuzydZ",
        "colab": {
          "base_uri": "https://localhost:8080/",
          "height": 34
        },
        "outputId": "d750a78e-d87d-4dc9-9ee5-ac1823ca330a"
      },
      "source": [
        "import numpy as np\n",
        "\n",
        "x = np.array([[0,0,0],\n",
        "              [0,0,1],\n",
        "              [0,1,0],\n",
        "              [0,1,1],\n",
        "              [1,0,0],\n",
        "              [1,0,1],\n",
        "              [1,1,0],\n",
        "              [1,1,1]])\n",
        "w = np.array([0.5, 1.0, 0.5])\n",
        "h = 1\n",
        "\n",
        "def formal_neuron(x, w, h):\n",
        "\n",
        "    p = np.dot(x, w)\n",
        "    y = p > h\n",
        "    #cast from boolean to integer\n",
        "    return y.astype(np.int)\n",
        "\n",
        "y = formal_neuron(x, w.T, h)\n",
        "print(y)"
      ],
      "execution_count": null,
      "outputs": [
        {
          "output_type": "stream",
          "text": [
            "[0 0 0 1 0 0 1 1]\n"
          ],
          "name": "stdout"
        }
      ]
    },
    {
      "cell_type": "markdown",
      "metadata": {
        "id": "vX6oLpWT-QPP"
      },
      "source": [
        "## Exercise 1.10"
      ]
    },
    {
      "cell_type": "code",
      "metadata": {
        "id": "BK1rL-6Y-URo"
      },
      "source": [
        "import numpy as np\n",
        "x=\n",
        "w=\n",
        "h="
      ],
      "execution_count": null,
      "outputs": []
    },
    {
      "cell_type": "markdown",
      "metadata": {
        "id": "vLLXJvza-Y0E"
      },
      "source": [
        "## Example 1.6"
      ]
    },
    {
      "cell_type": "code",
      "metadata": {
        "id": "uydGdr5B-X0N"
      },
      "source": [
        "import numpy as np\n",
        "\n",
        "x=np.array([[0,0,0],\n",
        "            [0,0,1],\n",
        "            [0,1,0],\n",
        "            [0,1,1],\n",
        "            [1,0,0],\n",
        "            [1,0,1],\n",
        "            [1,1,0],\n",
        "            [1,1,1]])\n",
        "w = np.array([[0.5, 0.0],\n",
        "              [1.0, 0.5],\n",
        "              [0.5, 1.0]])\n",
        "h = np.array([0.5, 1.0])\n",
        "\n",
        "def formal_neuron(x, w, h):\n",
        "  p = np.dot(x, w)\n",
        "  y = p > h\n",
        "  #convert boolean to integer\n",
        "  return y.astype(np.int)\n",
        "  \n",
        "y = formal_neuron(x, w, h)\n",
        "print(y)\n"
      ],
      "execution_count": null,
      "outputs": []
    },
    {
      "cell_type": "markdown",
      "metadata": {
        "id": "DLrhwgyrAr81"
      },
      "source": [
        "## Exercise 1.12"
      ]
    },
    {
      "cell_type": "code",
      "metadata": {
        "id": "dsp-Qd6ZAvCR"
      },
      "source": [
        "import numpy as np\n",
        "x=\n",
        "w=\n",
        "h="
      ],
      "execution_count": null,
      "outputs": []
    },
    {
      "cell_type": "markdown",
      "metadata": {
        "id": "etSQc-JwA3q4"
      },
      "source": [
        "## Exercise1.13"
      ]
    },
    {
      "cell_type": "code",
      "metadata": {
        "id": "ELvjNgZgA0dx"
      },
      "source": [
        "import numpy as np\n",
        "x=\n",
        "w=\n",
        "h="
      ],
      "execution_count": null,
      "outputs": []
    },
    {
      "cell_type": "markdown",
      "metadata": {
        "id": "PAdtNqOcrrTV"
      },
      "source": [
        "## Example 1.7"
      ]
    },
    {
      "cell_type": "code",
      "metadata": {
        "id": "7bDWbjrXrqZ2"
      },
      "source": [
        "import numpy as np\n",
        "\n",
        "class FormalNeuronLayer:\n",
        "  def __init__(self, w, h):\n",
        "    self.w = w\n",
        "    self.h = h\n",
        "    \n",
        "  def forward(self, x):\n",
        "    p = np.dot(x, self.w)\n",
        "    y = p > self.h\n",
        "    return y.astype(np.int)\n",
        "\n",
        "x = np.array([[0,0,0],\n",
        "              [0,0,1],\n",
        "              [0,1,0],\n",
        "              [0,1,1],\n",
        "              [1,0,0],\n",
        "              [1,0,1],\n",
        "              [1,1,0],\n",
        "              [1,1,1]])\n",
        "w = np.array([[0.5, 0.0],\n",
        "              [1.0, 0.5],\n",
        "              [0.5, 1.0]])\n",
        "h = np.array([0.5, 1.0])\n",
        "\n",
        "formalNeuron = FormalNeuronLayer(w,h)\n",
        "y = formalNeuron.forward(x)\n",
        "print(y)"
      ],
      "execution_count": null,
      "outputs": []
    },
    {
      "cell_type": "markdown",
      "metadata": {
        "id": "p75TMv_JEYtu"
      },
      "source": [
        "## Exercise 1.14"
      ]
    },
    {
      "cell_type": "code",
      "metadata": {
        "id": "hl7j6UMoEX0q"
      },
      "source": [
        "import numpy as np\n",
        "x=\n",
        "w=\n",
        "h="
      ],
      "execution_count": null,
      "outputs": []
    },
    {
      "cell_type": "markdown",
      "metadata": {
        "id": "ifNFnliJEdav"
      },
      "source": [
        "## Example 1.8"
      ]
    },
    {
      "cell_type": "code",
      "metadata": {
        "id": "-l9cp1-9EuCj"
      },
      "source": [
        "import numpy as np\n",
        "\n",
        "class FormalNeuronLayer:\n",
        "  def __init__(self, w, h):\n",
        "    self.w = w\n",
        "    self.h = h\n",
        "    \n",
        "  def forward(self, x):\n",
        "    p = np.dot(x, self.w)\n",
        "    y = p > self.h\n",
        "    return y.astype(np.int)\n",
        "\n",
        "x = np.array([[0,0,0],\n",
        "              [0,0,1],\n",
        "              [0,1,0],\n",
        "              [0,1,1],\n",
        "              [1,0,0],\n",
        "              [1,0,1],\n",
        "              [1,1,0],\n",
        "              [1,1,1]])\n",
        "w = np.array([[0.5, 1.0, 1.0],\n",
        "              [1.0, 0.5, 0.5],\n",
        "              [0.5, 1.0, 0.0]])\n",
        "h = np.array([0.5, 1.5, 1.0])\n",
        "u = np.array([[1.0, 0.5],\n",
        "              [0.5, 0.0],\n",
        "              [0.0, 1.0]])\n",
        "g = np.array([1.0, 0.0])\n",
        "\n",
        "formalNeuron1 = FormalNeuronLayer(w,h)\n",
        "formalNeuron2 = FormalNeuronLayer(u,g)\n",
        "y = formalNeuron1.forward(x)\n",
        "print(y)\n",
        "z = formalNeuron2.forward(y)\n",
        "print(z)"
      ],
      "execution_count": null,
      "outputs": []
    },
    {
      "cell_type": "markdown",
      "metadata": {
        "id": "pF9sywOJL-AC"
      },
      "source": [
        "## Exercise 1.15"
      ]
    },
    {
      "cell_type": "code",
      "metadata": {
        "id": "ooQTJN-SKG90"
      },
      "source": [
        "import numpy as np\n",
        "x=\n",
        "w=\n",
        "h="
      ],
      "execution_count": null,
      "outputs": []
    },
    {
      "cell_type": "markdown",
      "metadata": {
        "id": "DUGC8NopMABS"
      },
      "source": [
        "## Exercise 1.16"
      ]
    },
    {
      "cell_type": "code",
      "metadata": {
        "id": "M0ybkp89MB0q"
      },
      "source": [
        "import numpy as np\n",
        "x=\n",
        "w=\n",
        "h="
      ],
      "execution_count": null,
      "outputs": []
    }
  ]
}